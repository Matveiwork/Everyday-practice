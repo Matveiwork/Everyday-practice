{
 "cells": [
  {
   "cell_type": "code",
   "execution_count": 24,
   "id": "18cc8554",
   "metadata": {},
   "outputs": [],
   "source": [
    "import pandas as pd\n",
    "import sys\n",
    "if not sys.warnoptions:\n",
    "    import warnings\n",
    "    warnings.simplefilter(\"ignore\")\n",
    "import numpy as np\n",
    "from scipy.stats import shapiro\n",
    "from scipy.stats import levene\n",
    "from scipy.stats import normaltest\n",
    "from scipy.stats import levene\n",
    "from scipy.stats import wilcoxon\n",
    "import plotly"
   ]
  },
  {
   "cell_type": "code",
   "execution_count": 4,
   "id": "fc7150a5",
   "metadata": {},
   "outputs": [],
   "source": [
    "df = pd.read_csv('data_test (1).csv',encoding='latin-1')"
   ]
  },
  {
   "cell_type": "code",
   "execution_count": 5,
   "id": "14fb783a",
   "metadata": {},
   "outputs": [
    {
     "data": {
      "text/html": [
       "<div>\n",
       "<style scoped>\n",
       "    .dataframe tbody tr th:only-of-type {\n",
       "        vertical-align: middle;\n",
       "    }\n",
       "\n",
       "    .dataframe tbody tr th {\n",
       "        vertical-align: top;\n",
       "    }\n",
       "\n",
       "    .dataframe thead th {\n",
       "        text-align: right;\n",
       "    }\n",
       "</style>\n",
       "<table border=\"1\" class=\"dataframe\">\n",
       "  <thead>\n",
       "    <tr style=\"text-align: right;\">\n",
       "      <th></th>\n",
       "      <th>battle_id</th>\n",
       "      <th>unit_1</th>\n",
       "      <th>unit_2</th>\n",
       "      <th>unit_3</th>\n",
       "      <th>unit_4</th>\n",
       "      <th>len</th>\n",
       "      <th>balance_mark</th>\n",
       "    </tr>\n",
       "  </thead>\n",
       "  <tbody>\n",
       "    <tr>\n",
       "      <th>0</th>\n",
       "      <td>103921</td>\n",
       "      <td>òîïîð</td>\n",
       "      <td>ëóê</td>\n",
       "      <td>áóëàâà</td>\n",
       "      <td>ëóê</td>\n",
       "      <td>17.35</td>\n",
       "      <td>before</td>\n",
       "    </tr>\n",
       "    <tr>\n",
       "      <th>1</th>\n",
       "      <td>117214</td>\n",
       "      <td>ïîñîõ</td>\n",
       "      <td>ïîñîõ</td>\n",
       "      <td>ëóê</td>\n",
       "      <td>ëóê</td>\n",
       "      <td>21.84</td>\n",
       "      <td>before</td>\n",
       "    </tr>\n",
       "    <tr>\n",
       "      <th>2</th>\n",
       "      <td>115502</td>\n",
       "      <td>ìå÷</td>\n",
       "      <td>ïîñîõ</td>\n",
       "      <td>áóëàâà</td>\n",
       "      <td>òîïîð</td>\n",
       "      <td>16.00</td>\n",
       "      <td>before</td>\n",
       "    </tr>\n",
       "    <tr>\n",
       "      <th>3</th>\n",
       "      <td>110102</td>\n",
       "      <td>áóëàâà</td>\n",
       "      <td>ëóê</td>\n",
       "      <td>ëóê</td>\n",
       "      <td>áóëàâà</td>\n",
       "      <td>17.22</td>\n",
       "      <td>before</td>\n",
       "    </tr>\n",
       "    <tr>\n",
       "      <th>4</th>\n",
       "      <td>104989</td>\n",
       "      <td>ìå÷</td>\n",
       "      <td>ïîñîõ</td>\n",
       "      <td>áóëàâà</td>\n",
       "      <td>ïîñîõ</td>\n",
       "      <td>19.20</td>\n",
       "      <td>before</td>\n",
       "    </tr>\n",
       "    <tr>\n",
       "      <th>...</th>\n",
       "      <td>...</td>\n",
       "      <td>...</td>\n",
       "      <td>...</td>\n",
       "      <td>...</td>\n",
       "      <td>...</td>\n",
       "      <td>...</td>\n",
       "      <td>...</td>\n",
       "    </tr>\n",
       "    <tr>\n",
       "      <th>19995</th>\n",
       "      <td>108834</td>\n",
       "      <td>ïîñîõ</td>\n",
       "      <td>áóëàâà</td>\n",
       "      <td>ëóê</td>\n",
       "      <td>ïîñîõ</td>\n",
       "      <td>26.37</td>\n",
       "      <td>after</td>\n",
       "    </tr>\n",
       "    <tr>\n",
       "      <th>19996</th>\n",
       "      <td>119941</td>\n",
       "      <td>ïîñîõ</td>\n",
       "      <td>ìå÷</td>\n",
       "      <td>ëóê</td>\n",
       "      <td>ïîñîõ</td>\n",
       "      <td>23.73</td>\n",
       "      <td>after</td>\n",
       "    </tr>\n",
       "    <tr>\n",
       "      <th>19997</th>\n",
       "      <td>112911</td>\n",
       "      <td>òîïîð</td>\n",
       "      <td>ïîñîõ</td>\n",
       "      <td>áóëàâà</td>\n",
       "      <td>òîïîð</td>\n",
       "      <td>27.73</td>\n",
       "      <td>after</td>\n",
       "    </tr>\n",
       "    <tr>\n",
       "      <th>19998</th>\n",
       "      <td>111684</td>\n",
       "      <td>ìå÷</td>\n",
       "      <td>òîïîð</td>\n",
       "      <td>ïîñîõ</td>\n",
       "      <td>ìå÷</td>\n",
       "      <td>24.20</td>\n",
       "      <td>after</td>\n",
       "    </tr>\n",
       "    <tr>\n",
       "      <th>19999</th>\n",
       "      <td>103437</td>\n",
       "      <td>ëóê</td>\n",
       "      <td>ëóê</td>\n",
       "      <td>áóëàâà</td>\n",
       "      <td>áóëàâà</td>\n",
       "      <td>22.83</td>\n",
       "      <td>after</td>\n",
       "    </tr>\n",
       "  </tbody>\n",
       "</table>\n",
       "<p>20000 rows × 7 columns</p>\n",
       "</div>"
      ],
      "text/plain": [
       "       battle_id  unit_1  unit_2  unit_3  unit_4    len balance_mark\n",
       "0         103921   òîïîð     ëóê  áóëàâà     ëóê  17.35       before\n",
       "1         117214   ïîñîõ   ïîñîõ     ëóê     ëóê  21.84       before\n",
       "2         115502     ìå÷   ïîñîõ  áóëàâà   òîïîð  16.00       before\n",
       "3         110102  áóëàâà     ëóê     ëóê  áóëàâà  17.22       before\n",
       "4         104989     ìå÷   ïîñîõ  áóëàâà   ïîñîõ  19.20       before\n",
       "...          ...     ...     ...     ...     ...    ...          ...\n",
       "19995     108834   ïîñîõ  áóëàâà     ëóê   ïîñîõ  26.37        after\n",
       "19996     119941   ïîñîõ     ìå÷     ëóê   ïîñîõ  23.73        after\n",
       "19997     112911   òîïîð   ïîñîõ  áóëàâà   òîïîð  27.73        after\n",
       "19998     111684     ìå÷   òîïîð   ïîñîõ     ìå÷  24.20        after\n",
       "19999     103437     ëóê     ëóê  áóëàâà  áóëàâà  22.83        after\n",
       "\n",
       "[20000 rows x 7 columns]"
      ]
     },
     "execution_count": 5,
     "metadata": {},
     "output_type": "execute_result"
    }
   ],
   "source": [
    "df"
   ]
  },
  {
   "cell_type": "markdown",
   "id": "33a5f5d2",
   "metadata": {},
   "source": [
    "### Нулевая гипотеза: Изменение настроек баланса оружия,не повлияло на длительность боя.\n",
    "\n",
    "### Альтернативная гипотеза: Изменение настроек баланса оружия,повлияло на длительность боя."
   ]
  },
  {
   "cell_type": "code",
   "execution_count": 8,
   "id": "a310b51a",
   "metadata": {},
   "outputs": [],
   "source": [
    "df_before = df[df['balance_mark'] == 'before']"
   ]
  },
  {
   "cell_type": "code",
   "execution_count": 10,
   "id": "c8550870",
   "metadata": {},
   "outputs": [],
   "source": [
    "df_after = df[df['balance_mark'] == 'after']"
   ]
  },
  {
   "cell_type": "markdown",
   "id": "7195f493",
   "metadata": {},
   "source": [
    "#### Проверяем выборки на нормальность распределения,чтобы правильно выбрать статистический критерий."
   ]
  },
  {
   "cell_type": "code",
   "execution_count": 13,
   "id": "239cd0dd",
   "metadata": {},
   "outputs": [
    {
     "data": {
      "text/plain": [
       "ShapiroResult(statistic=0.9556410312652588, pvalue=0.0)"
      ]
     },
     "execution_count": 13,
     "metadata": {},
     "output_type": "execute_result"
    }
   ],
   "source": [
    "shapiro(df_before['len'])"
   ]
  },
  {
   "cell_type": "code",
   "execution_count": 17,
   "id": "65c60ae7",
   "metadata": {},
   "outputs": [
    {
     "data": {
      "text/plain": [
       "NormaltestResult(statistic=8128.472060243243, pvalue=0.0)"
      ]
     },
     "execution_count": 17,
     "metadata": {},
     "output_type": "execute_result"
    }
   ],
   "source": [
    "normaltest(df_before['len'])"
   ]
  },
  {
   "cell_type": "code",
   "execution_count": 18,
   "id": "c905fa53",
   "metadata": {},
   "outputs": [
    {
     "data": {
      "text/plain": [
       "ShapiroResult(statistic=0.9290156364440918, pvalue=0.0)"
      ]
     },
     "execution_count": 18,
     "metadata": {},
     "output_type": "execute_result"
    }
   ],
   "source": [
    "shapiro(df_after['len'])"
   ]
  },
  {
   "cell_type": "code",
   "execution_count": 20,
   "id": "361df9ac",
   "metadata": {},
   "outputs": [
    {
     "data": {
      "text/plain": [
       "NormaltestResult(statistic=2058.7006862684766, pvalue=0.0)"
      ]
     },
     "execution_count": 20,
     "metadata": {},
     "output_type": "execute_result"
    }
   ],
   "source": [
    "normaltest(df_after['len'])"
   ]
  },
  {
   "cell_type": "markdown",
   "id": "be0cceda",
   "metadata": {},
   "source": [
    "#### Отвергаем нулевую гипотезу о нормальности распределения,то есть выборки распределены ненормально.(pvalue<0.5)"
   ]
  },
  {
   "cell_type": "code",
   "execution_count": 22,
   "id": "afc20be3",
   "metadata": {},
   "outputs": [],
   "source": [
    "after = df_after['len']\n",
    "before = df_before['len']"
   ]
  },
  {
   "cell_type": "markdown",
   "id": "8203d831",
   "metadata": {},
   "source": [
    "#### Проверяем выборки на равенство дисперсий."
   ]
  },
  {
   "cell_type": "code",
   "execution_count": 23,
   "id": "c0284e1e",
   "metadata": {},
   "outputs": [
    {
     "data": {
      "text/plain": [
       "LeveneResult(statistic=275.5838693359824, pvalue=1.7763238530171475e-61)"
      ]
     },
     "execution_count": 23,
     "metadata": {},
     "output_type": "execute_result"
    }
   ],
   "source": [
    "levene(after,before)"
   ]
  },
  {
   "cell_type": "markdown",
   "id": "10474401",
   "metadata": {},
   "source": [
    "#### Отвергаем нулевую гипотезу о равенстве дисперсий,то есть дисперсии неравны.(pvalue<0.5)"
   ]
  },
  {
   "cell_type": "markdown",
   "id": "5d16d97f",
   "metadata": {},
   "source": [
    "#### Будем использовать критерий Вилкоксона. Условия использования этого критерия: выборки зависимы, выборки не из нормального распределения."
   ]
  },
  {
   "cell_type": "code",
   "execution_count": 33,
   "id": "c7f4c943",
   "metadata": {},
   "outputs": [
    {
     "data": {
      "text/plain": [
       "WilcoxonResult(statistic=44695385.5, pvalue=1.0)"
      ]
     },
     "execution_count": 33,
     "metadata": {},
     "output_type": "execute_result"
    }
   ],
   "source": [
    "wilcoxon(after,before,alternative='less')"
   ]
  },
  {
   "cell_type": "markdown",
   "id": "2e00cc58",
   "metadata": {},
   "source": [
    "#### pvalue<0.5 ; Отвергаем нулевую гипотезу,разница в длительности боя есть"
   ]
  },
  {
   "cell_type": "code",
   "execution_count": 28,
   "id": "952bb2c1",
   "metadata": {},
   "outputs": [
    {
     "data": {
      "text/plain": [
       "19.973604000000005"
      ]
     },
     "execution_count": 28,
     "metadata": {},
     "output_type": "execute_result"
    }
   ],
   "source": [
    "np.array(before).mean()"
   ]
  },
  {
   "cell_type": "code",
   "execution_count": 29,
   "id": "4709d162",
   "metadata": {},
   "outputs": [
    {
     "data": {
      "text/plain": [
       "24.123114999999995"
      ]
     },
     "execution_count": 29,
     "metadata": {},
     "output_type": "execute_result"
    }
   ],
   "source": [
    "np.array(after).mean()"
   ]
  },
  {
   "cell_type": "code",
   "execution_count": 32,
   "id": "c9fa50ec",
   "metadata": {},
   "outputs": [
    {
     "name": "stdout",
     "output_type": "stream",
     "text": [
      "24.3\n",
      "19.96\n"
     ]
    }
   ],
   "source": [
    "print(np.median(np.array(after)))\n",
    "print(np.median(np.array(before)))"
   ]
  },
  {
   "cell_type": "code",
   "execution_count": 39,
   "id": "73004325",
   "metadata": {},
   "outputs": [
    {
     "name": "stdout",
     "output_type": "stream",
     "text": [
      "17.20138962153102 = На столько процентов увеличилось среднее время продолжительности игры\n",
      "17.860082304526742 = На столько процентов увеличилась медиана продолжительности игры\n"
     ]
    }
   ],
   "source": [
    "mean1 = np.array(after).mean()\n",
    "mean2 = np.array(before).mean()\n",
    "median1 = np.median(np.array(after))\n",
    "median2 = np.median(np.array(before))\n",
    "print(f\"{100 - ((mean2/mean1)*100)}\", \"= На столько процентов увеличилось среднее время продолжительности игры\")\n",
    "print(f\"{100 - ((median2/median1)*100)}\", \"= На столько процентов увеличилась медиана продолжительности игры\")"
   ]
  },
  {
   "cell_type": "code",
   "execution_count": null,
   "id": "10ae940b",
   "metadata": {},
   "outputs": [],
   "source": []
  }
 ],
 "metadata": {
  "kernelspec": {
   "display_name": "Python 3 (ipykernel)",
   "language": "python",
   "name": "python3"
  },
  "language_info": {
   "codemirror_mode": {
    "name": "ipython",
    "version": 3
   },
   "file_extension": ".py",
   "mimetype": "text/x-python",
   "name": "python",
   "nbconvert_exporter": "python",
   "pygments_lexer": "ipython3",
   "version": "3.11.5"
  }
 },
 "nbformat": 4,
 "nbformat_minor": 5
}
